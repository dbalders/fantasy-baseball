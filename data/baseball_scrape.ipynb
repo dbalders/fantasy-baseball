{
 "cells": [
  {
   "cell_type": "code",
   "execution_count": 75,
   "metadata": {},
   "outputs": [],
   "source": [
    "from bs4 import BeautifulSoup\n",
    "import urllib.request\n",
    "from selenium import webdriver\n",
    "from selenium.webdriver.common.keys import Keys\n",
    "from selenium.webdriver.support.ui import WebDriverWait\n",
    "from selenium.webdriver.common.by import By\n",
    "from selenium.webdriver.support.ui import Select\n",
    "from selenium.webdriver.firefox.options import Options as FirefoxOptions\n",
    "from bs4 import BeautifulSoup\n",
    "import pandas as pd\n",
    "import re\n",
    "import os\n",
    "import json"
   ]
  },
  {
   "cell_type": "code",
   "execution_count": 76,
   "metadata": {},
   "outputs": [],
   "source": [
    "page_url = \"https://baseballmonster.com\"\n",
    "page = urllib.request.urlopen(page_url)\n",
    "soup = BeautifulSoup(page, 'html.parser')"
   ]
  },
  {
   "cell_type": "code",
   "execution_count": 77,
   "metadata": {},
   "outputs": [],
   "source": [
    "# Firefox session\n",
    "options = FirefoxOptions()\n",
    "# options.add_argument(\"--headless\")\n",
    "# options.add_argument(\"--width=1920\");\n",
    "# options.add_argument(\"--height=2160\");\n",
    "driver = webdriver.Firefox(options=options)\n",
    "\n",
    "driver.get(page_url)\n",
    "driver.implicitly_wait(100)"
   ]
  },
  {
   "cell_type": "code",
   "execution_count": 78,
   "metadata": {},
   "outputs": [],
   "source": [
    "#Click settings\n",
    "button = driver.find_elements_by_class_name(\"nav-item\")[1]\n",
    "button.click()"
   ]
  },
  {
   "cell_type": "code",
   "execution_count": 79,
   "metadata": {},
   "outputs": [],
   "source": [
    "button = driver.find_element(By.LINK_TEXT, \"League Settings\")\n",
    "button.click()"
   ]
  },
  {
   "cell_type": "code",
   "execution_count": 80,
   "metadata": {},
   "outputs": [],
   "source": [
    "batter_table = driver.find_elements_by_class_name(\"table\")[1]\n",
    "pitcher_table = driver.find_elements_by_class_name(\"table\")[2]\n",
    "\n",
    "batter_rows = batter_table.find_elements(By.TAG_NAME, \"tr\")\n",
    "pitcher_rows = pitcher_table.find_elements(By.TAG_NAME, \"tr\")\n",
    "\n",
    "batter_rows = len(batter_rows)\n",
    "pitcher_rows = len(pitcher_rows)"
   ]
  },
  {
   "cell_type": "code",
   "execution_count": 81,
   "metadata": {},
   "outputs": [],
   "source": [
    "batter_header_list = [\"Games\", \"At Bats\", \"On-Base Percentage (OBP)\", \"Slugging Percentage (SLG)\", \"On-Base + Slugging (OPS)\", \"Hits\", \"Singles\", \"Doubles\", \"Triples\", \"Extra Base Hits\", \"Walks\", \"Strikeouts\"]\n",
    "pitcher_header_list = [\"Games\", \"Innings Pitched\", \"Opponent Batting Avg (approx.)\", \"Quality Starts\", \"Complete Games\", \"Shutouts\", \"Holds\", \"Saves plus Holds\", \"Earned Runs\", \"Strikeouts/9\", \"Outs\"]\n"
   ]
  },
  {
   "cell_type": "code",
   "execution_count": 82,
   "metadata": {},
   "outputs": [],
   "source": [
    "for i in range(batter_rows):\n",
    "    radiotr = batter_table.find_elements(By.TAG_NAME, \"tr\")[i]\n",
    "    if i > 0:\n",
    "        for j in range(len(batter_header_list)):\n",
    "            title = radiotr.find_elements(By.TAG_NAME, \"td\")[0].text\n",
    "            if batter_header_list[j] == title:\n",
    "                radio = radiotr.find_elements(By.TAG_NAME, \"td\")[2]\n",
    "                radio.click()\n",
    "        "
   ]
  },
  {
   "cell_type": "code",
   "execution_count": 83,
   "metadata": {},
   "outputs": [],
   "source": [
    "for i in range(pitcher_rows):\n",
    "    radiotr = pitcher_table.find_elements(By.TAG_NAME, \"tr\")[i]\n",
    "    if i > 0:\n",
    "        for j in range(len(pitcher_header_list)):\n",
    "            title = radiotr.find_elements(By.TAG_NAME, \"td\")[0].text\n",
    "            if pitcher_header_list[j] == title:\n",
    "                radio = radiotr.find_elements(By.TAG_NAME, \"td\")[2]\n",
    "                radio.click()"
   ]
  },
  {
   "cell_type": "code",
   "execution_count": 84,
   "metadata": {},
   "outputs": [],
   "source": [
    "save_btn = driver.find_element_by_id(\"ContentPlaceHolder1_SaveSettingsButton\")\n",
    "save_btn.click()"
   ]
  },
  {
   "cell_type": "code",
   "execution_count": 85,
   "metadata": {},
   "outputs": [],
   "source": [
    "#Click settings\n",
    "button = driver.find_elements_by_class_name(\"nav-item\")[0]\n",
    "button.click()\n",
    "button = driver.find_element(By.LINK_TEXT, \"Player Rankings\")\n",
    "button.click()"
   ]
  },
  {
   "cell_type": "code",
   "execution_count": 86,
   "metadata": {},
   "outputs": [],
   "source": [
    "driver.find_element_by_id(\"PlayerFilterControl\").click()\n",
    "date_change = Select(driver.find_element_by_id(\"PlayerFilterControl\"))\n",
    "date_change.select_by_visible_text(\"All Players\")\n",
    "\n",
    "rankings_table = driver.find_elements_by_class_name(\"table\")[0]\n",
    "rankings_table_html = driver.execute_script(\"return arguments[0].outerHTML;\", rankings_table)"
   ]
  },
  {
   "cell_type": "code",
   "execution_count": null,
   "metadata": {},
   "outputs": [],
   "source": [
    "driver.find_element_by_id(\"DateFilterControl\").click()\n",
    "date_change = Select(driver.find_element_by_id(\"DateFilterControl\"))\n",
    "date_change.select_by_visible_text(\"Past Days\")\n",
    "\n",
    "date_change_days = driver.find_element_by_id(\"DateFilterControlDAYS\")\n",
    "date_change_days.clear()\n",
    "date_change_days.send_keys(\"7\")\n",
    "\n",
    "refresh = driver.find_element_by_id(\"ContentPlaceHolder1_GetRankingsButton\")\n",
    "refresh.click()\n",
    "\n",
    "rankings_table_recent = driver.find_elements_by_class_name(\"table\")[0]\n",
    "rankings_table_recent_html = driver.execute_script(\"return arguments[0].outerHTML;\", rankings_table_recent)"
   ]
  },
  {
   "cell_type": "code",
   "execution_count": 70,
   "metadata": {},
   "outputs": [],
   "source": [
    "driver.quit()"
   ]
  },
  {
   "cell_type": "code",
   "execution_count": 71,
   "metadata": {},
   "outputs": [],
   "source": [
    "def isfloat(value):\n",
    "    try:\n",
    "        float(value)\n",
    "        return True\n",
    "    except ValueError:\n",
    "        return False"
   ]
  },
  {
   "cell_type": "code",
   "execution_count": 72,
   "metadata": {},
   "outputs": [],
   "source": [
    "def getTableJson(tableHTML, outputName):\n",
    "    soup = BeautifulSoup(tableHTML)\n",
    "    table_header = soup.find_all(\"thead\")\n",
    "    table_headers = table_header[0].find_all(\"th\")\n",
    "    table_body = soup.find_all(\"tbody\")\n",
    "\n",
    "    table_headers_array = []\n",
    "    pitcher_start = 0\n",
    "\n",
    "    for i in range(len(table_headers)):\n",
    "        table_headers_array.append(table_headers[i].string.strip())\n",
    "        if table_headers[i].string.strip() == 'IP':\n",
    "            pitcher_start = i\n",
    "        \n",
    "    table_body = soup.find_all(\"tbody\")\n",
    "    rankings_table_json = []\n",
    "\n",
    "    for i in range(len(table_body)):\n",
    "        table_rows = table_body[i].find_all(\"tr\")\n",
    "        for j in range(len(table_rows)):\n",
    "            rankings_table_td = table_rows[j].find_all(\"td\")\n",
    "            rankings_table_object = {}\n",
    "                    \n",
    "            for k in range(len(rankings_table_td)):\n",
    "                pitcher = False\n",
    "    \n",
    "                if rankings_table_td[8].string.strip() == 'SP':\n",
    "                    pitcher = True\n",
    "                    rankings_table_object[\"playerType\"] = \"Pitcher\"\n",
    "\n",
    "                elif rankings_table_td[8].string.strip() == 'RP':\n",
    "                    pitcher = True\n",
    "                    rankings_table_object[\"playerType\"] = \"Pitcher\"\n",
    "\n",
    "                else:\n",
    "                    rankings_table_object[\"playerType\"] = \"Batter\"\n",
    "\n",
    "                if pitcher == True:\n",
    "                    if k < 9:\n",
    "                        if (isfloat(rankings_table_td[k].string.strip())):\n",
    "                            rankings_table_object[table_headers_array[k]] = float(rankings_table_td[k].string.strip())\n",
    "                        elif rankings_table_td[k].string.strip() == \"\":\n",
    "                            rankings_table_object[table_headers_array[k]] = 0\n",
    "                        else:\n",
    "                            rankings_table_object[table_headers_array[k]] = rankings_table_td[k].string.strip()\n",
    "                    elif k >= (pitcher_start):\n",
    "                        if (isfloat(rankings_table_td[k].string.strip())):\n",
    "                            rankings_table_object[table_headers_array[k]] = float(rankings_table_td[k].string.strip())\n",
    "                        elif rankings_table_td[k].string.strip() == \"\":\n",
    "                            rankings_table_object[table_headers_array[k]] = 0\n",
    "                        else:\n",
    "                            rankings_table_object[table_headers_array[k]] = rankings_table_td[k].string.strip()\n",
    "                    else:\n",
    "                        k = pitcher_start\n",
    "                else:\n",
    "                    if k < pitcher_start:\n",
    "                        if (isfloat(rankings_table_td[k].string.strip())):\n",
    "                            rankings_table_object[table_headers_array[k]] = float(rankings_table_td[k].string.strip())\n",
    "                        elif rankings_table_td[k].string.strip() == \" \":\n",
    "                            rankings_table_object[table_headers_array[k]] = 0\n",
    "                        else:\n",
    "                            rankings_table_object[table_headers_array[k]] = rankings_table_td[k].string.strip()\n",
    "\n",
    "            rankings_table_json.append(rankings_table_object)\n",
    "\n",
    "    with open(outputName, 'w') as outfile:\n",
    "        json.dump(rankings_table_json, outfile)\n"
   ]
  },
  {
   "cell_type": "code",
   "execution_count": 73,
   "metadata": {},
   "outputs": [],
   "source": [
    "getTableJson(rankings_table_html, \"../public/json/rankings.json\")"
   ]
  },
  {
   "cell_type": "code",
   "execution_count": 74,
   "metadata": {},
   "outputs": [],
   "source": [
    "getTableJson(rankings_table_recent_html, \"../public/json/rankings_recent.json\")"
   ]
  },
  {
   "cell_type": "code",
   "execution_count": null,
   "metadata": {},
   "outputs": [],
   "source": []
  }
 ],
 "metadata": {
  "kernelspec": {
   "display_name": "Python 3",
   "language": "python",
   "name": "python3"
  },
  "language_info": {
   "codemirror_mode": {
    "name": "ipython",
    "version": 3
   },
   "file_extension": ".py",
   "mimetype": "text/x-python",
   "name": "python",
   "nbconvert_exporter": "python",
   "pygments_lexer": "ipython3",
   "version": "3.7.3"
  }
 },
 "nbformat": 4,
 "nbformat_minor": 2
}
