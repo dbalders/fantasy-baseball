{
 "cells": [
  {
   "cell_type": "code",
   "execution_count": 1,
   "metadata": {},
   "outputs": [],
   "source": [
    "from bs4 import BeautifulSoup\n",
    "import urllib.request\n",
    "from selenium import webdriver\n",
    "from selenium.webdriver.common.keys import Keys\n",
    "from selenium.webdriver.support.ui import WebDriverWait\n",
    "from selenium.webdriver.common.by import By\n",
    "from selenium.webdriver.support.ui import Select\n",
    "from selenium.webdriver.firefox.options import Options as FirefoxOptions\n",
    "from bs4 import BeautifulSoup\n",
    "import pandas as pd\n",
    "import re\n",
    "import os\n",
    "import json"
   ]
  },
  {
   "cell_type": "code",
   "execution_count": 2,
   "metadata": {},
   "outputs": [],
   "source": [
    "page_url = \"https://baseballmonster.com\"\n",
    "page = urllib.request.urlopen(page_url)\n",
    "soup = BeautifulSoup(page, 'html.parser')"
   ]
  },
  {
   "cell_type": "code",
   "execution_count": 3,
   "metadata": {},
   "outputs": [],
   "source": [
    "# Firefox session\n",
    "options = FirefoxOptions()\n",
    "options.add_argument(\"--headless\")\n",
    "options.add_argument(\"--width=1920\");\n",
    "options.add_argument(\"--height=2160\");\n",
    "driver = webdriver.Firefox(options=options, service_log_path='./geckodriver.log')\n",
    "\n",
    "driver.get(page_url)\n",
    "driver.implicitly_wait(100)"
   ]
  },
  {
   "cell_type": "code",
   "execution_count": 4,
   "metadata": {},
   "outputs": [],
   "source": [
    "#Click settings\n",
    "button = driver.find_elements_by_class_name(\"nav-item\")\n",
    "button = driver.find_element(By.LINK_TEXT, \"Settings\")\n",
    "button.click()"
   ]
  },
  {
   "cell_type": "code",
   "execution_count": 5,
   "metadata": {},
   "outputs": [],
   "source": [
    "button = driver.find_element(By.LINK_TEXT, \"League Settings\")\n",
    "button.click()"
   ]
  },
  {
   "cell_type": "code",
   "execution_count": 6,
   "metadata": {},
   "outputs": [],
   "source": [
    "batter_table = driver.find_elements_by_class_name(\"table\")[1]\n",
    "pitcher_table = driver.find_elements_by_class_name(\"table\")[2]\n",
    "\n",
    "batter_rows = batter_table.find_elements(By.TAG_NAME, \"tr\")\n",
    "pitcher_rows = pitcher_table.find_elements(By.TAG_NAME, \"tr\")\n",
    "\n",
    "batter_rows = len(batter_rows)\n",
    "pitcher_rows = len(pitcher_rows)"
   ]
  },
  {
   "cell_type": "code",
   "execution_count": 7,
   "metadata": {},
   "outputs": [],
   "source": [
    "batter_header_list = [\"Games\", \"At Bats\", \"On-Base Percentage (OBP)\", \"Slugging Percentage (SLG)\", \"On-Base + Slugging (OPS)\", \"Hits\", \"Singles\", \"Doubles\", \"Triples\", \"Extra Base Hits\", \"Walks\", \"Strikeouts\"]\n",
    "pitcher_header_list = [\"Games\", \"Innings Pitched\", \"Opponent Batting Avg (approx.)\", \"Quality Starts\", \"Complete Games\", \"Shutouts\", \"Holds\", \"Saves plus Holds\", \"Earned Runs\", \"Strikeouts/9\", \"Outs\"]\n"
   ]
  },
  {
   "cell_type": "code",
   "execution_count": 8,
   "metadata": {},
   "outputs": [
    {
     "ename": "ElementClickInterceptedException",
     "evalue": "Message: Element <input id=\"ON\" name=\"CATGROUP:37\" type=\"radio\"> is not clickable at point (680,830) because another element <html> obscures it\n",
     "output_type": "error",
     "traceback": [
      "\u001b[0;31m---------------------------------------------------------------------------\u001b[0m",
      "\u001b[0;31mElementClickInterceptedException\u001b[0m          Traceback (most recent call last)",
      "\u001b[0;32m<ipython-input-8-75c254847d1c>\u001b[0m in \u001b[0;36m<module>\u001b[0;34m\u001b[0m\n\u001b[1;32m      7\u001b[0m                 \u001b[0mradio\u001b[0m \u001b[0;34m=\u001b[0m \u001b[0mradiotr\u001b[0m\u001b[0;34m.\u001b[0m\u001b[0mfind_elements\u001b[0m\u001b[0;34m(\u001b[0m\u001b[0mBy\u001b[0m\u001b[0;34m.\u001b[0m\u001b[0mTAG_NAME\u001b[0m\u001b[0;34m,\u001b[0m \u001b[0;34m\"td\"\u001b[0m\u001b[0;34m)\u001b[0m\u001b[0;34m[\u001b[0m\u001b[0;36m2\u001b[0m\u001b[0;34m]\u001b[0m\u001b[0;34m\u001b[0m\u001b[0;34m\u001b[0m\u001b[0m\n\u001b[1;32m      8\u001b[0m                 \u001b[0mradio\u001b[0m \u001b[0;34m=\u001b[0m \u001b[0mradio\u001b[0m\u001b[0;34m.\u001b[0m\u001b[0mfind_elements\u001b[0m\u001b[0;34m(\u001b[0m\u001b[0mBy\u001b[0m\u001b[0;34m.\u001b[0m\u001b[0mTAG_NAME\u001b[0m\u001b[0;34m,\u001b[0m \u001b[0;34m\"input\"\u001b[0m\u001b[0;34m)\u001b[0m\u001b[0;34m[\u001b[0m\u001b[0;36m0\u001b[0m\u001b[0;34m]\u001b[0m\u001b[0;34m\u001b[0m\u001b[0;34m\u001b[0m\u001b[0m\n\u001b[0;32m----> 9\u001b[0;31m                 \u001b[0mradio\u001b[0m\u001b[0;34m.\u001b[0m\u001b[0mclick\u001b[0m\u001b[0;34m(\u001b[0m\u001b[0;34m)\u001b[0m\u001b[0;34m\u001b[0m\u001b[0;34m\u001b[0m\u001b[0m\n\u001b[0m\u001b[1;32m     10\u001b[0m \u001b[0;34m\u001b[0m\u001b[0m\n",
      "\u001b[0;32m/usr/local/lib/python3.7/site-packages/selenium/webdriver/remote/webelement.py\u001b[0m in \u001b[0;36mclick\u001b[0;34m(self)\u001b[0m\n\u001b[1;32m     78\u001b[0m     \u001b[0;32mdef\u001b[0m \u001b[0mclick\u001b[0m\u001b[0;34m(\u001b[0m\u001b[0mself\u001b[0m\u001b[0;34m)\u001b[0m\u001b[0;34m:\u001b[0m\u001b[0;34m\u001b[0m\u001b[0;34m\u001b[0m\u001b[0m\n\u001b[1;32m     79\u001b[0m         \u001b[0;34m\"\"\"Clicks the element.\"\"\"\u001b[0m\u001b[0;34m\u001b[0m\u001b[0;34m\u001b[0m\u001b[0m\n\u001b[0;32m---> 80\u001b[0;31m         \u001b[0mself\u001b[0m\u001b[0;34m.\u001b[0m\u001b[0m_execute\u001b[0m\u001b[0;34m(\u001b[0m\u001b[0mCommand\u001b[0m\u001b[0;34m.\u001b[0m\u001b[0mCLICK_ELEMENT\u001b[0m\u001b[0;34m)\u001b[0m\u001b[0;34m\u001b[0m\u001b[0;34m\u001b[0m\u001b[0m\n\u001b[0m\u001b[1;32m     81\u001b[0m \u001b[0;34m\u001b[0m\u001b[0m\n\u001b[1;32m     82\u001b[0m     \u001b[0;32mdef\u001b[0m \u001b[0msubmit\u001b[0m\u001b[0;34m(\u001b[0m\u001b[0mself\u001b[0m\u001b[0;34m)\u001b[0m\u001b[0;34m:\u001b[0m\u001b[0;34m\u001b[0m\u001b[0;34m\u001b[0m\u001b[0m\n",
      "\u001b[0;32m/usr/local/lib/python3.7/site-packages/selenium/webdriver/remote/webelement.py\u001b[0m in \u001b[0;36m_execute\u001b[0;34m(self, command, params)\u001b[0m\n\u001b[1;32m    631\u001b[0m             \u001b[0mparams\u001b[0m \u001b[0;34m=\u001b[0m \u001b[0;34m{\u001b[0m\u001b[0;34m}\u001b[0m\u001b[0;34m\u001b[0m\u001b[0;34m\u001b[0m\u001b[0m\n\u001b[1;32m    632\u001b[0m         \u001b[0mparams\u001b[0m\u001b[0;34m[\u001b[0m\u001b[0;34m'id'\u001b[0m\u001b[0;34m]\u001b[0m \u001b[0;34m=\u001b[0m \u001b[0mself\u001b[0m\u001b[0;34m.\u001b[0m\u001b[0m_id\u001b[0m\u001b[0;34m\u001b[0m\u001b[0;34m\u001b[0m\u001b[0m\n\u001b[0;32m--> 633\u001b[0;31m         \u001b[0;32mreturn\u001b[0m \u001b[0mself\u001b[0m\u001b[0;34m.\u001b[0m\u001b[0m_parent\u001b[0m\u001b[0;34m.\u001b[0m\u001b[0mexecute\u001b[0m\u001b[0;34m(\u001b[0m\u001b[0mcommand\u001b[0m\u001b[0;34m,\u001b[0m \u001b[0mparams\u001b[0m\u001b[0;34m)\u001b[0m\u001b[0;34m\u001b[0m\u001b[0;34m\u001b[0m\u001b[0m\n\u001b[0m\u001b[1;32m    634\u001b[0m \u001b[0;34m\u001b[0m\u001b[0m\n\u001b[1;32m    635\u001b[0m     \u001b[0;32mdef\u001b[0m \u001b[0mfind_element\u001b[0m\u001b[0;34m(\u001b[0m\u001b[0mself\u001b[0m\u001b[0;34m,\u001b[0m \u001b[0mby\u001b[0m\u001b[0;34m=\u001b[0m\u001b[0mBy\u001b[0m\u001b[0;34m.\u001b[0m\u001b[0mID\u001b[0m\u001b[0;34m,\u001b[0m \u001b[0mvalue\u001b[0m\u001b[0;34m=\u001b[0m\u001b[0;32mNone\u001b[0m\u001b[0;34m)\u001b[0m\u001b[0;34m:\u001b[0m\u001b[0;34m\u001b[0m\u001b[0;34m\u001b[0m\u001b[0m\n",
      "\u001b[0;32m/usr/local/lib/python3.7/site-packages/selenium/webdriver/remote/webdriver.py\u001b[0m in \u001b[0;36mexecute\u001b[0;34m(self, driver_command, params)\u001b[0m\n\u001b[1;32m    319\u001b[0m         \u001b[0mresponse\u001b[0m \u001b[0;34m=\u001b[0m \u001b[0mself\u001b[0m\u001b[0;34m.\u001b[0m\u001b[0mcommand_executor\u001b[0m\u001b[0;34m.\u001b[0m\u001b[0mexecute\u001b[0m\u001b[0;34m(\u001b[0m\u001b[0mdriver_command\u001b[0m\u001b[0;34m,\u001b[0m \u001b[0mparams\u001b[0m\u001b[0;34m)\u001b[0m\u001b[0;34m\u001b[0m\u001b[0;34m\u001b[0m\u001b[0m\n\u001b[1;32m    320\u001b[0m         \u001b[0;32mif\u001b[0m \u001b[0mresponse\u001b[0m\u001b[0;34m:\u001b[0m\u001b[0;34m\u001b[0m\u001b[0;34m\u001b[0m\u001b[0m\n\u001b[0;32m--> 321\u001b[0;31m             \u001b[0mself\u001b[0m\u001b[0;34m.\u001b[0m\u001b[0merror_handler\u001b[0m\u001b[0;34m.\u001b[0m\u001b[0mcheck_response\u001b[0m\u001b[0;34m(\u001b[0m\u001b[0mresponse\u001b[0m\u001b[0;34m)\u001b[0m\u001b[0;34m\u001b[0m\u001b[0;34m\u001b[0m\u001b[0m\n\u001b[0m\u001b[1;32m    322\u001b[0m             response['value'] = self._unwrap_value(\n\u001b[1;32m    323\u001b[0m                 response.get('value', None))\n",
      "\u001b[0;32m/usr/local/lib/python3.7/site-packages/selenium/webdriver/remote/errorhandler.py\u001b[0m in \u001b[0;36mcheck_response\u001b[0;34m(self, response)\u001b[0m\n\u001b[1;32m    240\u001b[0m                 \u001b[0malert_text\u001b[0m \u001b[0;34m=\u001b[0m \u001b[0mvalue\u001b[0m\u001b[0;34m[\u001b[0m\u001b[0;34m'alert'\u001b[0m\u001b[0;34m]\u001b[0m\u001b[0;34m.\u001b[0m\u001b[0mget\u001b[0m\u001b[0;34m(\u001b[0m\u001b[0;34m'text'\u001b[0m\u001b[0;34m)\u001b[0m\u001b[0;34m\u001b[0m\u001b[0;34m\u001b[0m\u001b[0m\n\u001b[1;32m    241\u001b[0m             \u001b[0;32mraise\u001b[0m \u001b[0mexception_class\u001b[0m\u001b[0;34m(\u001b[0m\u001b[0mmessage\u001b[0m\u001b[0;34m,\u001b[0m \u001b[0mscreen\u001b[0m\u001b[0;34m,\u001b[0m \u001b[0mstacktrace\u001b[0m\u001b[0;34m,\u001b[0m \u001b[0malert_text\u001b[0m\u001b[0;34m)\u001b[0m\u001b[0;34m\u001b[0m\u001b[0;34m\u001b[0m\u001b[0m\n\u001b[0;32m--> 242\u001b[0;31m         \u001b[0;32mraise\u001b[0m \u001b[0mexception_class\u001b[0m\u001b[0;34m(\u001b[0m\u001b[0mmessage\u001b[0m\u001b[0;34m,\u001b[0m \u001b[0mscreen\u001b[0m\u001b[0;34m,\u001b[0m \u001b[0mstacktrace\u001b[0m\u001b[0;34m)\u001b[0m\u001b[0;34m\u001b[0m\u001b[0;34m\u001b[0m\u001b[0m\n\u001b[0m\u001b[1;32m    243\u001b[0m \u001b[0;34m\u001b[0m\u001b[0m\n\u001b[1;32m    244\u001b[0m     \u001b[0;32mdef\u001b[0m \u001b[0m_value_or_default\u001b[0m\u001b[0;34m(\u001b[0m\u001b[0mself\u001b[0m\u001b[0;34m,\u001b[0m \u001b[0mobj\u001b[0m\u001b[0;34m,\u001b[0m \u001b[0mkey\u001b[0m\u001b[0;34m,\u001b[0m \u001b[0mdefault\u001b[0m\u001b[0;34m)\u001b[0m\u001b[0;34m:\u001b[0m\u001b[0;34m\u001b[0m\u001b[0;34m\u001b[0m\u001b[0m\n",
      "\u001b[0;31mElementClickInterceptedException\u001b[0m: Message: Element <input id=\"ON\" name=\"CATGROUP:37\" type=\"radio\"> is not clickable at point (680,830) because another element <html> obscures it\n"
     ]
    }
   ],
   "source": [
    "for i in range(batter_rows):\n",
    "    radiotr = batter_table.find_elements(By.TAG_NAME, \"tr\")[i]\n",
    "    if i > 0:\n",
    "        for j in range(len(batter_header_list)):\n",
    "            title = radiotr.find_elements(By.TAG_NAME, \"td\")[0].text\n",
    "            if batter_header_list[j] == title:\n",
    "                radio = radiotr.find_elements(By.TAG_NAME, \"td\")[2]\n",
    "                radio = radio.find_elements(By.TAG_NAME, \"input\")[0]\n",
    "                radio.click()\n",
    "        "
   ]
  },
  {
   "cell_type": "code",
   "execution_count": null,
   "metadata": {},
   "outputs": [],
   "source": [
    "for i in range(pitcher_rows):\n",
    "    radiotr = pitcher_table.find_elements(By.TAG_NAME, \"tr\")[i]\n",
    "    if i > 0:\n",
    "        for j in range(len(pitcher_header_list)):\n",
    "            title = radiotr.find_elements(By.TAG_NAME, \"td\")[0].text\n",
    "            if pitcher_header_list[j] == title:\n",
    "                radio = radiotr.find_elements(By.TAG_NAME, \"td\")[2]\n",
    "                radio = radio.find_elements(By.TAG_NAME, \"input\")[0]\n",
    "                radio.click()"
   ]
  },
  {
   "cell_type": "code",
   "execution_count": null,
   "metadata": {},
   "outputs": [],
   "source": [
    "save_btn = driver.find_element_by_id(\"ContentPlaceHolder1_SaveSettingsButton\")\n",
    "save_btn.click()"
   ]
  },
  {
   "cell_type": "code",
   "execution_count": null,
   "metadata": {},
   "outputs": [],
   "source": [
    "#Click settings\n",
    "button = driver.find_elements_by_class_name(\"nav-item\")[0]\n",
    "button.click()\n",
    "button = driver.find_element(By.LINK_TEXT, \"Player Rankings\")\n",
    "button.click()"
   ]
  },
  {
   "cell_type": "code",
   "execution_count": null,
   "metadata": {},
   "outputs": [],
   "source": [
    "driver.find_element_by_id(\"PlayerFilterControl\").click()\n",
    "date_change = Select(driver.find_element_by_id(\"PlayerFilterControl\"))\n",
    "date_change.select_by_visible_text(\"All Players\")\n",
    "\n",
    "rankings_table = driver.find_elements_by_class_name(\"table\")[0]\n",
    "rankings_table_html = driver.execute_script(\"return arguments[0].outerHTML;\", rankings_table)"
   ]
  },
  {
   "cell_type": "code",
   "execution_count": null,
   "metadata": {},
   "outputs": [],
   "source": [
    "driver.find_element_by_id(\"DateFilterControl\").click()\n",
    "date_change = Select(driver.find_element_by_id(\"DateFilterControl\"))\n",
    "date_change.select_by_visible_text(\"Past Days\")\n",
    "\n",
    "date_change_days = driver.find_element_by_id(\"DateFilterControlDAYS\")\n",
    "date_change_days.clear()\n",
    "date_change_days.send_keys(\"7\")\n",
    "\n",
    "refresh = driver.find_element_by_id(\"ContentPlaceHolder1_GetRankingsButton\")\n",
    "refresh.click()\n",
    "\n",
    "rankings_table_recent = driver.find_elements_by_class_name(\"table\")[0]\n",
    "rankings_table_recent_html = driver.execute_script(\"return arguments[0].outerHTML;\", rankings_table_recent)"
   ]
  },
  {
   "cell_type": "code",
   "execution_count": null,
   "metadata": {},
   "outputs": [],
   "source": [
    "driver.quit()"
   ]
  },
  {
   "cell_type": "code",
   "execution_count": null,
   "metadata": {},
   "outputs": [],
   "source": [
    "def isfloat(value):\n",
    "    try:\n",
    "        float(value)\n",
    "        return True\n",
    "    except ValueError:\n",
    "        return False"
   ]
  },
  {
   "cell_type": "code",
   "execution_count": null,
   "metadata": {},
   "outputs": [],
   "source": [
    "def getTableJson(tableHTML, outputName):\n",
    "    soup = BeautifulSoup(tableHTML)\n",
    "    table_header = soup.find_all(\"thead\")\n",
    "    table_headers = table_header[0].find_all(\"th\")\n",
    "    table_body = soup.find_all(\"tbody\")\n",
    "\n",
    "    table_headers_array = []\n",
    "    pitcher_start = 0\n",
    "\n",
    "    for i in range(len(table_headers)):\n",
    "        table_headers_array.append(table_headers[i].string.strip())\n",
    "        if table_headers[i].string.strip() == 'IP':\n",
    "            pitcher_start = i\n",
    "        \n",
    "    table_body = soup.find_all(\"tbody\")\n",
    "    rankings_table_json = []\n",
    "\n",
    "    for i in range(len(table_body)):\n",
    "        table_rows = table_body[i].find_all(\"tr\")\n",
    "        for j in range(len(table_rows)):\n",
    "            rankings_table_td = table_rows[j].find_all(\"td\")\n",
    "            rankings_table_object = {}\n",
    "                    \n",
    "            for k in range(len(rankings_table_td)):\n",
    "                pitcher = False\n",
    "    \n",
    "                if rankings_table_td[7].string.strip() == 'SP':\n",
    "                    pitcher = True\n",
    "                    rankings_table_object[\"playerType\"] = \"Pitcher\"\n",
    "\n",
    "                elif rankings_table_td[7].string.strip() == 'RP':\n",
    "                    pitcher = True\n",
    "                    rankings_table_object[\"playerType\"] = \"Pitcher\"\n",
    "\n",
    "                else:\n",
    "                    rankings_table_object[\"playerType\"] = \"Batter\"\n",
    "\n",
    "                if pitcher == True:\n",
    "                    if k < 9:\n",
    "                        if (isfloat(rankings_table_td[k].string.strip())):\n",
    "                            rankings_table_object[table_headers_array[k]] = float(rankings_table_td[k].string.strip())\n",
    "                        elif rankings_table_td[k].string.strip() == \"\":\n",
    "                            rankings_table_object[table_headers_array[k]] = 0\n",
    "                        else:\n",
    "                            rankings_table_object[table_headers_array[k]] = rankings_table_td[k].string.strip()\n",
    "                    elif k >= (pitcher_start):\n",
    "                        if (isfloat(rankings_table_td[k].string.strip())):\n",
    "                            rankings_table_object[table_headers_array[k]] = float(rankings_table_td[k].string.strip())\n",
    "                        elif rankings_table_td[k].string.strip() == \"\":\n",
    "                            rankings_table_object[table_headers_array[k]] = 0\n",
    "                        else:\n",
    "                            rankings_table_object[table_headers_array[k]] = rankings_table_td[k].string.strip()\n",
    "                    else:\n",
    "                        k = pitcher_start\n",
    "                else:\n",
    "                    if k < pitcher_start:\n",
    "                        if (isfloat(rankings_table_td[k].string.strip())):\n",
    "                            rankings_table_object[table_headers_array[k]] = float(rankings_table_td[k].string.strip())\n",
    "                        elif rankings_table_td[k].string.strip() == \" \":\n",
    "                            rankings_table_object[table_headers_array[k]] = 0\n",
    "                        else:\n",
    "                            rankings_table_object[table_headers_array[k]] = rankings_table_td[k].string.strip()\n",
    "\n",
    "            rankings_table_json.append(rankings_table_object)\n",
    "\n",
    "    with open(outputName, 'w') as outfile:\n",
    "        json.dump(rankings_table_json, outfile)\n"
   ]
  },
  {
   "cell_type": "code",
   "execution_count": null,
   "metadata": {},
   "outputs": [],
   "source": [
    "getTableJson(rankings_table_html, \"../public/json/rankings.json\")"
   ]
  },
  {
   "cell_type": "code",
   "execution_count": null,
   "metadata": {},
   "outputs": [],
   "source": [
    "getTableJson(rankings_table_recent_html, \"../public/json/rankings_recent.json\")"
   ]
  },
  {
   "cell_type": "code",
   "execution_count": null,
   "metadata": {},
   "outputs": [],
   "source": []
  }
 ],
 "metadata": {
  "kernelspec": {
   "display_name": "Python 3",
   "language": "python",
   "name": "python3"
  },
  "language_info": {
   "codemirror_mode": {
    "name": "ipython",
    "version": 3
   },
   "file_extension": ".py",
   "mimetype": "text/x-python",
   "name": "python",
   "nbconvert_exporter": "python",
   "pygments_lexer": "ipython3",
   "version": "3.7.3"
  }
 },
 "nbformat": 4,
 "nbformat_minor": 2
}
